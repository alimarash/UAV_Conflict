{
  "nbformat": 4,
  "nbformat_minor": 0,
  "metadata": {
    "colab": {
      "provenance": []
    },
    "kernelspec": {
      "name": "python3",
      "display_name": "Python 3"
    },
    "language_info": {
      "name": "python"
    }
  },
  "cells": [
    {
      "cell_type": "markdown",
      "source": [
        "In this code, the road map is doing the regression task at first then the classification task."
      ],
      "metadata": {
        "id": "C2ojZQr3XkPX"
      }
    },
    {
      "cell_type": "code",
      "execution_count": 123,
      "metadata": {
        "id": "XsWOhYdDVz6D"
      },
      "outputs": [],
      "source": [
        "#import main libraries and classes\n",
        "import numpy as np\n",
        "import matplotlib.pyplot as plt\n",
        "import pandas as pd\n",
        "from sklearn.metrics import mean_squared_error, r2_score\n",
        "\n",
        "#Import regression classes\n",
        "from sklearn.ensemble import GradientBoostingRegressor\n",
        "from sklearn.ensemble import RandomForestRegressor\n",
        "from sklearn.linear_model import LinearRegression\n",
        "from sklearn.ensemble import VotingRegressor\n",
        "from sklearn.preprocessing import PolynomialFeatures"
      ]
    },
    {
      "cell_type": "markdown",
      "source": [
        "Remember to change the code directory for proper running of the code on your system."
      ],
      "metadata": {
        "id": "p1LE2fsLYDp2"
      }
    },
    {
      "cell_type": "code",
      "source": [
        "#Mount Drive\n",
        "from google.colab import drive\n",
        "drive.mount('/content/drive/')\n",
        "\n",
        "# Load dataset, change the 'filename' array for the correct file address in your virtual drive\n",
        "filename = '/content/drive/My Drive/UAV/train_set.tsv'\n",
        "dataset = pd.read_csv(filename, sep='\\t', header=0)"
      ],
      "metadata": {
        "colab": {
          "base_uri": "https://localhost:8080/"
        },
        "id": "4GP6wBy9ZPb8",
        "outputId": "56df54b2-3f19-44b8-abd8-fa810ae0bcc0"
      },
      "execution_count": 124,
      "outputs": [
        {
          "output_type": "stream",
          "name": "stdout",
          "text": [
            "Drive already mounted at /content/drive/; to attempt to forcibly remount, call drive.mount(\"/content/drive/\", force_remount=True).\n"
          ]
        }
      ]
    },
    {
      "cell_type": "code",
      "source": [
        "#let's get some info about the dataset\n",
        "dataset.info()"
      ],
      "metadata": {
        "id": "XvPOc46sZckX"
      },
      "execution_count": null,
      "outputs": []
    },
    {
      "cell_type": "code",
      "source": [
        "#let's see the dataset\n",
        "dataset"
      ],
      "metadata": {
        "id": "NrpR7T1wZijX"
      },
      "execution_count": null,
      "outputs": []
    },
    {
      "cell_type": "markdown",
      "source": [
        "The Regression Task for minimum CPA starts here."
      ],
      "metadata": {
        "id": "BKzLkjcPYZmI"
      }
    },
    {
      "cell_type": "code",
      "source": [
        "#set dependent and independent variables\n",
        "X = dataset.drop('min_CPA', axis=1)\n",
        "y = dataset['min_CPA']"
      ],
      "metadata": {
        "id": "myzolGEwbHtq"
      },
      "execution_count": 146,
      "outputs": []
    },
    {
      "cell_type": "code",
      "source": [
        "#preprocessing data considering one classification column\n",
        "from sklearn.preprocessing import OneHotEncoder\n",
        "from sklearn.compose import ColumnTransformer\n",
        " \n",
        "categorical_feature = [\"num_collisions\"]\n",
        "one_hot = OneHotEncoder()\n",
        "transformer = ColumnTransformer([(\"one_hot\",\n",
        "                                  one_hot,\n",
        "                                  categorical_feature)],\n",
        "                                 remainder=\"passthrough\")\n",
        "\n",
        "transformed_X = transformer.fit_transform(X)"
      ],
      "metadata": {
        "id": "uL2e9u4-XyJR"
      },
      "execution_count": 147,
      "outputs": []
    },
    {
      "cell_type": "code",
      "source": [
        "transformed_X = preprocessing.normalize(transformed_X, norm='l2')"
      ],
      "metadata": {
        "id": "YnUAwEJHnDQd"
      },
      "execution_count": 139,
      "outputs": []
    },
    {
      "cell_type": "code",
      "source": [
        "#split to test and train set\n",
        "from sklearn.model_selection import train_test_split\n",
        "X_train, X_test, y_train, y_test = train_test_split(transformed_X, y, test_size = 0.35, random_state = 2509)"
      ],
      "metadata": {
        "id": "qi2gOcY9YaEp"
      },
      "execution_count": 148,
      "outputs": []
    },
    {
      "cell_type": "code",
      "source": [
        "#Regression GBR, RFR, LR\n",
        "reg_gb = GradientBoostingRegressor(random_state=1)\n",
        "reg_rf = RandomForestRegressor(random_state=1)\n",
        "reg_lr = LinearRegression()\n",
        "reg_gb.fit(X_train, y_train)\n",
        "reg_rf.fit(X_train, y_train)\n",
        "reg_lr.fit(X_train, y_train)"
      ],
      "metadata": {
        "colab": {
          "base_uri": "https://localhost:8080/"
        },
        "id": "mqFFzud8YkCY",
        "outputId": "691810e7-4f0a-45ed-c632-4e889b945a21"
      },
      "execution_count": 149,
      "outputs": [
        {
          "output_type": "execute_result",
          "data": {
            "text/plain": [
              "LinearRegression()"
            ]
          },
          "metadata": {},
          "execution_count": 149
        }
      ]
    },
    {
      "cell_type": "code",
      "source": [
        "#Regression Voting\n",
        "reg_v = VotingRegressor([(\"gb\", reg_gb), (\"rf\", reg_rf), (\"lr\", reg_lr)])\n",
        "reg_v.fit(X_train, y_train)"
      ],
      "metadata": {
        "colab": {
          "base_uri": "https://localhost:8080/"
        },
        "id": "0-AvX-XxYq8R",
        "outputId": "12ef2ffa-32b8-479b-b581-dc9362360897"
      },
      "execution_count": 150,
      "outputs": [
        {
          "output_type": "execute_result",
          "data": {
            "text/plain": [
              "VotingRegressor(estimators=[('gb', GradientBoostingRegressor(random_state=1)),\n",
              "                            ('rf', RandomForestRegressor(random_state=1)),\n",
              "                            ('lr', LinearRegression())])"
            ]
          },
          "metadata": {},
          "execution_count": 150
        }
      ]
    },
    {
      "cell_type": "code",
      "source": [
        "#Polynomial Regression\n",
        "poly = PolynomialFeatures(degree = 2)\n",
        "X_poly = poly.fit_transform(X_train)\n",
        "\n",
        "poly.fit(X_poly, y_train)\n",
        "reg_poly = LinearRegression()\n",
        "reg_poly.fit(X_poly, y_train)"
      ],
      "metadata": {
        "colab": {
          "base_uri": "https://localhost:8080/"
        },
        "id": "ck_BmzunYrCA",
        "outputId": "0e10dcf4-a47f-4f8d-9ef1-de5416e146b8"
      },
      "execution_count": 151,
      "outputs": [
        {
          "output_type": "execute_result",
          "data": {
            "text/plain": [
              "LinearRegression()"
            ]
          },
          "metadata": {},
          "execution_count": 151
        }
      ]
    },
    {
      "cell_type": "code",
      "source": [
        "pred_gb = reg_gb.predict(X_test)\n",
        "pred_rf = reg_rf.predict(X_test)\n",
        "pred_lr = reg_lr.predict(X_test)\n",
        "pred_v = reg_v.predict(X_test)\n",
        "pred_poly = reg_poly.predict(poly.fit_transform(X_test))"
      ],
      "metadata": {
        "id": "K7g2iwtdaKbh"
      },
      "execution_count": 152,
      "outputs": []
    },
    {
      "cell_type": "code",
      "source": [
        "print(\"GDB Mean squared error: %.2f\" % mean_squared_error(y_test, pred_gb))\n",
        "print(\"GDB Regression score: %.2f \\n\" % r2_score(y_test, pred_gb))\n",
        "\n",
        "print(\"RF Mean squared error: %.2f\" % mean_squared_error(y_test, pred_rf))\n",
        "print(\"RF Regression score: %.2f \\n\" % r2_score(y_test, pred_rf))\n",
        "\n",
        "print(\"LR Mean squared error: %.2f\" % mean_squared_error(y_test, pred_lr))\n",
        "print(\"LR Regression score: %.2f \\n\" % r2_score(y_test, pred_lr))\n",
        "\n",
        "print(\"V Mean squared error: %.2f\" % mean_squared_error(y_test, pred_v))\n",
        "print(\"V Regression score: %.2f \\n\" % r2_score(y_test, pred_v))\n",
        "\n",
        "print(\"poly Mean squared error: %.2f\" % mean_squared_error(y_test, pred_v))\n",
        "print(\"poly Regression score: %.2f\" % r2_score(y_test, pred_v))"
      ],
      "metadata": {
        "colab": {
          "base_uri": "https://localhost:8080/"
        },
        "id": "BW7FlxlJagk4",
        "outputId": "4c106a13-6281-4fcc-c56b-206610574e8e"
      },
      "execution_count": 153,
      "outputs": [
        {
          "output_type": "stream",
          "name": "stdout",
          "text": [
            "GDB Mean squared error: 57052090.69\n",
            "GDB Regression score: 0.52 \n",
            "\n",
            "RF Mean squared error: 54340646.50\n",
            "RF Regression score: 0.54 \n",
            "\n",
            "LR Mean squared error: 54620728.21\n",
            "LR Regression score: 0.54 \n",
            "\n",
            "V Mean squared error: 53558857.51\n",
            "V Regression score: 0.55 \n",
            "\n",
            "poly Mean squared error: 53558857.51\n",
            "poly Regression score: 0.55\n"
          ]
        }
      ]
    },
    {
      "cell_type": "code",
      "source": [
        "plt.figure()\n",
        "plt.plot(pred_gb, \"gd\", label=\"GradientBoostingRegressor\")\n",
        "plt.plot(pred_rf, \"b^\", label=\"RandomForestRegressor\")\n",
        "plt.plot(pred_lr, \"ys\", label=\"LinearRegression\")\n",
        "plt.plot(pred_v, \"r*\", ms=10, label=\"VotingRegressor\")\n",
        "#plt.plot(pred_poly, \"b*\", ms=10, label=\"PolyRegressor\")\n",
        "\n",
        "plt.tick_params(axis=\"x\", which=\"both\", bottom=False, top=False, labelbottom=False)\n",
        "plt.ylabel(\"predicted\")\n",
        "plt.xlabel(\"training samples\")\n",
        "plt.legend(loc=\"best\")\n",
        "plt.title(\"Regressor predictions and their average\")\n",
        "\n",
        "plt.show()"
      ],
      "metadata": {
        "colab": {
          "base_uri": "https://localhost:8080/",
          "height": 278
        },
        "id": "aP7Xfj9DckTy",
        "outputId": "67a6d3e8-cca6-4c56-be88-45cbe805f734"
      },
      "execution_count": 136,
      "outputs": [
        {
          "output_type": "display_data",
          "data": {
            "text/plain": [
              "<Figure size 432x288 with 1 Axes>"
            ],
            "image/png": "[encoded data removed]"
          },
          "metadata": {
            "needs_background": "light"
          }
        }
      ]
    },
    {
      "cell_type": "markdown",
      "source": [
        "The Classification task of number of collisions starts here."
      ],
      "metadata": {
        "id": "P7_O4aVMYgQW"
      }
    },
    {
      "cell_type": "code",
      "execution_count": 166,
      "metadata": {
        "id": "f799e4ca"
      },
      "outputs": [],
      "source": [
        "#import necessary libraries and classes for the classification task\n",
        "\n",
        "import numpy as np\n",
        "import pandas as pd\n",
        "import matplotlib.pyplot as plt\n",
        "from sklearn.neighbors import KNeighborsClassifier\n",
        "from sklearn import preprocessing ,neighbors,svm\n",
        "from sklearn.model_selection import train_test_split"
      ]
    },
    {
      "cell_type": "code",
      "source": [
        "#Load dataset here\n",
        "from google.colab import drive\n",
        "drive.mount('/content/drive/')\n",
        "\n",
        "filename = '/content/drive/My Drive/UAV/train_set.tsv'\n",
        "df = pd.read_csv(filename, sep='\\t', header=0)"
      ],
      "metadata": {
        "colab": {
          "base_uri": "https://localhost:8080/"
        },
        "id": "G1xi_NUtZGe3",
        "outputId": "62eb46d7-f209-4efa-d4d6-6be17308aa67"
      },
      "execution_count": 167,
      "outputs": [
        {
          "output_type": "stream",
          "name": "stdout",
          "text": [
            "Drive already mounted at /content/drive/; to attempt to forcibly remount, call drive.mount(\"/content/drive/\", force_remount=True).\n"
          ]
        }
      ]
    },
    {
      "cell_type": "code",
      "source": [
        "#we may not need the min_cpa column for classification\n",
        "df.drop('min_CPA', axis=1, inplace=True)\n",
        "df.head()"
      ],
      "metadata": {
        "colab": {
          "base_uri": "https://localhost:8080/",
          "height": 299
        },
        "id": "oZC98eV4ZTQv",
        "outputId": "08de0c31-0d6a-435e-af37-68e318481d3c"
      },
      "execution_count": 168,
      "outputs": [
        {
          "output_type": "execute_result",
          "data": {
            "text/plain": [
              "   UAV_1_track       UAV_1_x       UAV_1_y    UAV_1_vx    UAV_1_vy  \\\n",
              "0     0.027068 -62300.591721 -59305.682068    6.705684  247.671970   \n",
              "1     4.023101 -17220.612570  47439.586909 -167.653031 -138.169553   \n",
              "2     1.841994 -19900.350438  59030.833595  208.716697  -58.033328   \n",
              "3     3.621532 -48565.126583 -11986.418570 -113.516305 -218.076997   \n",
              "4     2.318417  52665.281329 -47498.516869  177.796999 -164.846698   \n",
              "\n",
              "   UAV_1_target_x  UAV_1_target_y  UAV_2_track       UAV_2_x       UAV_2_y  \\\n",
              "0   -59569.480482    41566.912694     1.474570 -56681.475086  -5314.787648   \n",
              "1   -98139.258988   -19248.698541     2.614451  33573.808959  51374.559396   \n",
              "2    70435.277561    33913.163359     2.492568 -53314.291038 -15227.414024   \n",
              "3   -60503.694386   -34921.687695     4.941877  66081.722767 -13048.091807   \n",
              "4    63901.656021   -57916.461362     5.084740  -8541.183540   3543.309665   \n",
              "\n",
              "   ...  UAV_4_target_x  UAV_4_target_y  UAV_5_track       UAV_5_x  \\\n",
              "0  ...   -73393.079252    42576.874951     1.607547 -80967.561432   \n",
              "1  ...    54579.884869   -35144.579226     4.315806  13285.311651   \n",
              "2  ...    82065.359024   -23468.668544     0.954796  21679.563309   \n",
              "3  ...    60575.192521    42374.513704     4.056282 -31560.842269   \n",
              "4  ...   -52711.027260    26128.828499     2.515598  18186.463747   \n",
              "\n",
              "        UAV_5_y    UAV_5_vx    UAV_5_vy  UAV_5_target_x  UAV_5_target_y  \\\n",
              "0  37684.582412  213.175442   -7.837820    41342.567045    33187.606489   \n",
              "1 -41245.545752 -196.978758  -82.489078    -2806.112817   -47984.174724   \n",
              "2 -34471.154448  208.580726  147.651921    78980.509691     6091.533217   \n",
              "3  36234.825255 -184.415246 -141.978597   -61666.394619    13057.001319   \n",
              "4  79639.001255  133.007662 -183.966901    63306.445359    17232.196700   \n",
              "\n",
              "   num_collisions  \n",
              "0               3  \n",
              "1               0  \n",
              "2               0  \n",
              "3               0  \n",
              "4               0  \n",
              "\n",
              "[5 rows x 36 columns]"
            ],
            "text/html": [
              "\n",
              "  <div id=\"df-8fb85fba-fa9e-4e34-b169-b3c22c760eea\">\n",
              "    <div class=\"colab-df-container\">\n",
              "      <div>\n",
              "<style scoped>\n",
              "    .dataframe tbody tr th:only-of-type {\n",
              "        vertical-align: middle;\n",
              "    }\n",
              "\n",
              "    .dataframe tbody tr th {\n",
              "        vertical-align: top;\n",
              "    }\n",
              "\n",
              "    .dataframe thead th {\n",
              "        text-align: right;\n",
              "    }\n",
              "</style>\n",
              "<table border=\"1\" class=\"dataframe\">\n",
              "  <thead>\n",
              "    <tr style=\"text-align: right;\">\n",
              "      <th></th>\n",
              "      <th>UAV_1_track</th>\n",
              "      <th>UAV_1_x</th>\n",
              "      <th>UAV_1_y</th>\n",
              "      <th>UAV_1_vx</th>\n",
              "      <th>UAV_1_vy</th>\n",
              "      <th>UAV_1_target_x</th>\n",
              "      <th>UAV_1_target_y</th>\n",
              "      <th>UAV_2_track</th>\n",
              "      <th>UAV_2_x</th>\n",
              "      <th>UAV_2_y</th>\n",
              "      <th>...</th>\n",
              "      <th>UAV_4_target_x</th>\n",
              "      <th>UAV_4_target_y</th>\n",
              "      <th>UAV_5_track</th>\n",
              "      <th>UAV_5_x</th>\n",
              "      <th>UAV_5_y</th>\n",
              "      <th>UAV_5_vx</th>\n",
              "      <th>UAV_5_vy</th>\n",
              "      <th>UAV_5_target_x</th>\n",
              "      <th>UAV_5_target_y</th>\n",
              "      <th>num_collisions</th>\n",
              "    </tr>\n",
              "  </thead>\n",
              "  <tbody>\n",
              "    <tr>\n",
              "      <th>0</th>\n",
              "      <td>0.027068</td>\n",
              "      <td>-62300.591721</td>\n",
              "      <td>-59305.682068</td>\n",
              "      <td>6.705684</td>\n",
              "      <td>247.671970</td>\n",
              "      <td>-59569.480482</td>\n",
              "      <td>41566.912694</td>\n",
              "      <td>1.474570</td>\n",
              "      <td>-56681.475086</td>\n",
              "      <td>-5314.787648</td>\n",
              "      <td>...</td>\n",
              "      <td>-73393.079252</td>\n",
              "      <td>42576.874951</td>\n",
              "      <td>1.607547</td>\n",
              "      <td>-80967.561432</td>\n",
              "      <td>37684.582412</td>\n",
              "      <td>213.175442</td>\n",
              "      <td>-7.837820</td>\n",
              "      <td>41342.567045</td>\n",
              "      <td>33187.606489</td>\n",
              "      <td>3</td>\n",
              "    </tr>\n",
              "    <tr>\n",
              "      <th>1</th>\n",
              "      <td>4.023101</td>\n",
              "      <td>-17220.612570</td>\n",
              "      <td>47439.586909</td>\n",
              "      <td>-167.653031</td>\n",
              "      <td>-138.169553</td>\n",
              "      <td>-98139.258988</td>\n",
              "      <td>-19248.698541</td>\n",
              "      <td>2.614451</td>\n",
              "      <td>33573.808959</td>\n",
              "      <td>51374.559396</td>\n",
              "      <td>...</td>\n",
              "      <td>54579.884869</td>\n",
              "      <td>-35144.579226</td>\n",
              "      <td>4.315806</td>\n",
              "      <td>13285.311651</td>\n",
              "      <td>-41245.545752</td>\n",
              "      <td>-196.978758</td>\n",
              "      <td>-82.489078</td>\n",
              "      <td>-2806.112817</td>\n",
              "      <td>-47984.174724</td>\n",
              "      <td>0</td>\n",
              "    </tr>\n",
              "    <tr>\n",
              "      <th>2</th>\n",
              "      <td>1.841994</td>\n",
              "      <td>-19900.350438</td>\n",
              "      <td>59030.833595</td>\n",
              "      <td>208.716697</td>\n",
              "      <td>-58.033328</td>\n",
              "      <td>70435.277561</td>\n",
              "      <td>33913.163359</td>\n",
              "      <td>2.492568</td>\n",
              "      <td>-53314.291038</td>\n",
              "      <td>-15227.414024</td>\n",
              "      <td>...</td>\n",
              "      <td>82065.359024</td>\n",
              "      <td>-23468.668544</td>\n",
              "      <td>0.954796</td>\n",
              "      <td>21679.563309</td>\n",
              "      <td>-34471.154448</td>\n",
              "      <td>208.580726</td>\n",
              "      <td>147.651921</td>\n",
              "      <td>78980.509691</td>\n",
              "      <td>6091.533217</td>\n",
              "      <td>0</td>\n",
              "    </tr>\n",
              "    <tr>\n",
              "      <th>3</th>\n",
              "      <td>3.621532</td>\n",
              "      <td>-48565.126583</td>\n",
              "      <td>-11986.418570</td>\n",
              "      <td>-113.516305</td>\n",
              "      <td>-218.076997</td>\n",
              "      <td>-60503.694386</td>\n",
              "      <td>-34921.687695</td>\n",
              "      <td>4.941877</td>\n",
              "      <td>66081.722767</td>\n",
              "      <td>-13048.091807</td>\n",
              "      <td>...</td>\n",
              "      <td>60575.192521</td>\n",
              "      <td>42374.513704</td>\n",
              "      <td>4.056282</td>\n",
              "      <td>-31560.842269</td>\n",
              "      <td>36234.825255</td>\n",
              "      <td>-184.415246</td>\n",
              "      <td>-141.978597</td>\n",
              "      <td>-61666.394619</td>\n",
              "      <td>13057.001319</td>\n",
              "      <td>0</td>\n",
              "    </tr>\n",
              "    <tr>\n",
              "      <th>4</th>\n",
              "      <td>2.318417</td>\n",
              "      <td>52665.281329</td>\n",
              "      <td>-47498.516869</td>\n",
              "      <td>177.796999</td>\n",
              "      <td>-164.846698</td>\n",
              "      <td>63901.656021</td>\n",
              "      <td>-57916.461362</td>\n",
              "      <td>5.084740</td>\n",
              "      <td>-8541.183540</td>\n",
              "      <td>3543.309665</td>\n",
              "      <td>...</td>\n",
              "      <td>-52711.027260</td>\n",
              "      <td>26128.828499</td>\n",
              "      <td>2.515598</td>\n",
              "      <td>18186.463747</td>\n",
              "      <td>79639.001255</td>\n",
              "      <td>133.007662</td>\n",
              "      <td>-183.966901</td>\n",
              "      <td>63306.445359</td>\n",
              "      <td>17232.196700</td>\n",
              "      <td>0</td>\n",
              "    </tr>\n",
              "  </tbody>\n",
              "</table>\n",
              "<p>5 rows × 36 columns</p>\n",
              "</div>\n",
              "      <button class=\"colab-df-convert\" onclick=\"convertToInteractive('df-8fb85fba-fa9e-4e34-b169-b3c22c760eea')\"\n",
              "              title=\"Convert this dataframe to an interactive table.\"\n",
              "              style=\"display:none;\">\n",
              "        \n",
              "  <svg xmlns=\"http://www.w3.org/2000/svg\" height=\"24px\"viewBox=\"0 0 24 24\"\n",
              "       width=\"24px\">\n",
              "    <path d=\"M0 0h24v24H0V0z\" fill=\"none\"/>\n",
              "    <path d=\"M18.56 5.44l.94 2.06.94-2.06 2.06-.94-2.06-.94-.94-2.06-.94 2.06-2.06.94zm-11 1L8.5 8.5l.94-2.06 2.06-.94-2.06-.94L8.5 2.5l-.94 2.06-2.06.94zm10 10l.94 2.06.94-2.06 2.06-.94-2.06-.94-.94-2.06-.94 2.06-2.06.94z\"/><path d=\"M17.41 7.96l-1.37-1.37c-.4-.4-.92-.59-1.43-.59-.52 0-1.04.2-1.43.59L10.3 9.45l-7.72 7.72c-.78.78-.78 2.05 0 2.83L4 21.41c.39.39.9.59 1.41.59.51 0 1.02-.2 1.41-.59l7.78-7.78 2.81-2.81c.8-.78.8-2.07 0-2.86zM5.41 20L4 18.59l7.72-7.72 1.47 1.35L5.41 20z\"/>\n",
              "  </svg>\n",
              "      </button>\n",
              "      \n",
              "  <style>\n",
              "    .colab-df-container {\n",
              "      display:flex;\n",
              "      flex-wrap:wrap;\n",
              "      gap: 12px;\n",
              "    }\n",
              "\n",
              "    .colab-df-convert {\n",
              "      background-color: #E8F0FE;\n",
              "      border: none;\n",
              "      border-radius: 50%;\n",
              "      cursor: pointer;\n",
              "      display: none;\n",
              "      fill: #1967D2;\n",
              "      height: 32px;\n",
              "      padding: 0 0 0 0;\n",
              "      width: 32px;\n",
              "    }\n",
              "\n",
              "    .colab-df-convert:hover {\n",
              "      background-color: #E2EBFA;\n",
              "      box-shadow: 0px 1px 2px rgba(60, 64, 67, 0.3), 0px 1px 3px 1px rgba(60, 64, 67, 0.15);\n",
              "      fill: #174EA6;\n",
              "    }\n",
              "\n",
              "    [theme=dark] .colab-df-convert {\n",
              "      background-color: #3B4455;\n",
              "      fill: #D2E3FC;\n",
              "    }\n",
              "\n",
              "    [theme=dark] .colab-df-convert:hover {\n",
              "      background-color: #434B5C;\n",
              "      box-shadow: 0px 1px 3px 1px rgba(0, 0, 0, 0.15);\n",
              "      filter: drop-shadow(0px 1px 2px rgba(0, 0, 0, 0.3));\n",
              "      fill: #FFFFFF;\n",
              "    }\n",
              "  </style>\n",
              "\n",
              "      <script>\n",
              "        const buttonEl =\n",
              "          document.querySelector('#df-8fb85fba-fa9e-4e34-b169-b3c22c760eea button.colab-df-convert');\n",
              "        buttonEl.style.display =\n",
              "          google.colab.kernel.accessAllowed ? 'block' : 'none';\n",
              "\n",
              "        async function convertToInteractive(key) {\n",
              "          const element = document.querySelector('#df-8fb85fba-fa9e-4e34-b169-b3c22c760eea');\n",
              "          const dataTable =\n",
              "            await google.colab.kernel.invokeFunction('convertToInteractive',\n",
              "                                                     [key], {});\n",
              "          if (!dataTable) return;\n",
              "\n",
              "          const docLinkHtml = 'Like what you see? Visit the ' +\n",
              "            '<a target=\"_blank\" href=https://colab.research.google.com/notebooks/data_table.ipynb>data table notebook</a>'\n",
              "            + ' to learn more about interactive tables.';\n",
              "          element.innerHTML = '';\n",
              "          dataTable['output_type'] = 'display_data';\n",
              "          await google.colab.output.renderOutput(dataTable, element);\n",
              "          const docLink = document.createElement('div');\n",
              "          docLink.innerHTML = docLinkHtml;\n",
              "          element.appendChild(docLink);\n",
              "        }\n",
              "      </script>\n",
              "    </div>\n",
              "  </div>\n",
              "  "
            ]
          },
          "metadata": {},
          "execution_count": 168
        }
      ]
    },
    {
      "cell_type": "code",
      "source": [
        "#let's see\n",
        "df['num_collisions'].value_counts()"
      ],
      "metadata": {
        "colab": {
          "base_uri": "https://localhost:8080/"
        },
        "id": "jGen7LsEab4o",
        "outputId": "fcfdcc7b-d872-43f1-bb07-4ba6a490d04b"
      },
      "execution_count": 169,
      "outputs": [
        {
          "output_type": "execute_result",
          "data": {
            "text/plain": [
              "0    538\n",
              "1    333\n",
              "2     96\n",
              "3     30\n",
              "4      3\n",
              "Name: num_collisions, dtype: int64"
            ]
          },
          "metadata": {},
          "execution_count": 169
        }
      ]
    },
    {
      "cell_type": "code",
      "execution_count": 170,
      "metadata": {
        "id": "8b8b1319"
      },
      "outputs": [],
      "source": [
        "#KNN classification , set depnedent and independent variables for KNN classification\n",
        "x = df.drop('num_collisions',axis=1)\n",
        "y = np.array(df['num_collisions'])"
      ]
    },
    {
      "cell_type": "code",
      "source": [
        "#let's do oversampling by smote\n",
        "from imblearn.under_sampling import RandomUnderSampler\n",
        "from imblearn.over_sampling import SMOTE\n",
        "\n",
        "over_sampling = SMOTE(sampling_strategy='not majority',k_neighbors=2)\n",
        "x_smote, y_smote = over_sampling.fit_resample(x, y)\n",
        "\n",
        "x_train, x_test, y_train, y_test = train_test_split(x_smote, y_smote, test_size=0.2,random_state=100)\n",
        "pd.DataFrame(y_smote).value_counts()"
      ],
      "metadata": {
        "colab": {
          "base_uri": "https://localhost:8080/"
        },
        "id": "S3W_KJV_dK6Y",
        "outputId": "67a37dbf-6573-4289-db12-7e8ef0e76caf"
      },
      "execution_count": 171,
      "outputs": [
        {
          "output_type": "execute_result",
          "data": {
            "text/plain": [
              "0    538\n",
              "1    538\n",
              "2    538\n",
              "3    538\n",
              "4    538\n",
              "dtype: int64"
            ]
          },
          "metadata": {},
          "execution_count": 171
        }
      ]
    },
    {
      "cell_type": "code",
      "execution_count": 172,
      "metadata": {
        "colab": {
          "base_uri": "https://localhost:8080/"
        },
        "id": "d03ac210",
        "outputId": "3d3b8fd6-6dd1-4e9d-cc91-cc125db6a672"
      },
      "outputs": [
        {
          "output_type": "stream",
          "name": "stdout",
          "text": [
            "Fitting 10 folds for each of 99 candidates, totalling 990 fits\n"
          ]
        }
      ],
      "source": [
        "#KNN instance based classification and Grid search\n",
        "from sklearn.model_selection import GridSearchCV\n",
        "clf = KNeighborsClassifier()\n",
        "k_range = list(range(1, 100))\n",
        "param_grid = dict(n_neighbors=k_range)\n",
        "  \n",
        "# defining parameter range\n",
        "grid = GridSearchCV(clf, param_grid, cv=10, scoring='accuracy', return_train_score=False,verbose=1)\n",
        "  \n",
        "# fitting the model for grid search\n",
        "grid_search=grid.fit(x_smote, y_smote)"
      ]
    },
    {
      "cell_type": "code",
      "source": [
        "accuracy = grid_search.best_score_ *100\n",
        "print(\"Accuracy with grid search tuning : {:.2f}% \\n\".format(accuracy) )\n",
        "print(grid_search.best_params_)"
      ],
      "metadata": {
        "colab": {
          "base_uri": "https://localhost:8080/"
        },
        "id": "sVV6iHJIeHYY",
        "outputId": "55aae5d9-cc78-4315-ab90-97805166ed5b"
      },
      "execution_count": 173,
      "outputs": [
        {
          "output_type": "stream",
          "name": "stdout",
          "text": [
            "Accuracy with grid search tuning : 85.17% \n",
            "\n",
            "{'n_neighbors': 2}\n"
          ]
        }
      ]
    },
    {
      "cell_type": "code",
      "source": [
        "#plot confusion matrix and accuracy evaluation\n",
        "from sklearn.metrics import accuracy_score, plot_confusion_matrix\n",
        "knn = KNeighborsClassifier(n_neighbors=2)\n",
        "knn.fit(x_train, y_train)\n",
        "\n",
        "y_test_hat = knn.predict(x_test) \n",
        "test_ac = accuracy_score(y_test,y_test_hat)*100\n",
        "\n",
        "print(\"Accuracy for  testing dataset : {:.2f}% \\n\".format(test_ac) )\n",
        "plot_confusion_matrix(grid,x_test, y_test,values_format='d' )"
      ],
      "metadata": {
        "colab": {
          "base_uri": "https://localhost:8080/",
          "height": 387
        },
        "id": "_jFqVk1beMrh",
        "outputId": "6855d49e-08b4-4b0e-c425-032dc0a22b40"
      },
      "execution_count": 174,
      "outputs": [
        {
          "output_type": "stream",
          "name": "stdout",
          "text": [
            "Accuracy for  testing dataset : 83.83% \n",
            "\n"
          ]
        },
        {
          "output_type": "stream",
          "name": "stderr",
          "text": [
            "/usr/local/lib/python3.8/dist-packages/sklearn/utils/deprecation.py:87: FutureWarning: Function plot_confusion_matrix is deprecated; Function `plot_confusion_matrix` is deprecated in 1.0 and will be removed in 1.2. Use one of the class methods: ConfusionMatrixDisplay.from_predictions or ConfusionMatrixDisplay.from_estimator.\n",
            "  warnings.warn(msg, category=FutureWarning)\n"
          ]
        },
        {
          "output_type": "execute_result",
          "data": {
            "text/plain": [
              "<sklearn.metrics._plot.confusion_matrix.ConfusionMatrixDisplay at 0x7f8fb15456d0>"
            ]
          },
          "metadata": {},
          "execution_count": 174
        },
        {
          "output_type": "display_data",
          "data": {
            "text/plain": [
              "<Figure size 432x288 with 2 Axes>"
            ],
            "image/png": "[encoded data removed]"
          },
          "metadata": {
            "needs_background": "light"
          }
        }
      ]
    },
    {
      "cell_type": "code",
      "source": [
        "#logistic regression task\n",
        "from sklearn.linear_model import LogisticRegression\n",
        "from sklearn.metrics import classification_report, confusion_matrix"
      ],
      "metadata": {
        "id": "2XqUeTMQhaTS"
      },
      "execution_count": 175,
      "outputs": []
    },
    {
      "cell_type": "code",
      "source": [
        "#set dependent and independent variables\n",
        "x = np.array(df.drop('num_collisions',axis=1))\n",
        "y = np.array(df['num_collisions'])"
      ],
      "metadata": {
        "id": "oB3Nzi1zhfja"
      },
      "execution_count": 176,
      "outputs": []
    },
    {
      "cell_type": "code",
      "source": [
        "#fitting the model\n",
        "logit = LogisticRegression(penalty='l2', tol=0.01, C=1, fit_intercept=True, intercept_scaling=1, class_weight=None, random_state=None, solver='lbfgs', max_iter=5000)\n",
        "print(logit.fit(x_train,y_train))\n",
        "print(logit.score(x_test,y_test))"
      ],
      "metadata": {
        "colab": {
          "base_uri": "https://localhost:8080/"
        },
        "id": "R6fc_NJuhiNq",
        "outputId": "39a9cbcd-94ba-49a7-e581-b79c1ef00c0d"
      },
      "execution_count": 184,
      "outputs": [
        {
          "output_type": "stream",
          "name": "stdout",
          "text": [
            "LogisticRegression(C=1, max_iter=5000, tol=0.01)\n",
            "0.5\n"
          ]
        }
      ]
    },
    {
      "cell_type": "code",
      "source": [
        "confusion_matrix(y, logit.predict(x))"
      ],
      "metadata": {
        "colab": {
          "base_uri": "https://localhost:8080/"
        },
        "id": "ssaq3aoJhpKp",
        "outputId": "0ac2a681-ac8d-4a41-9fe4-e2a96c8aeec2"
      },
      "execution_count": 185,
      "outputs": [
        {
          "output_type": "stream",
          "name": "stderr",
          "text": [
            "/usr/local/lib/python3.8/dist-packages/sklearn/base.py:450: UserWarning: X does not have valid feature names, but LogisticRegression was fitted with feature names\n",
            "  warnings.warn(\n"
          ]
        },
        {
          "output_type": "execute_result",
          "data": {
            "text/plain": [
              "array([[180, 137,  81, 107,  33],\n",
              "       [ 75, 124,  41,  71,  22],\n",
              "       [ 25,  19,  33,  12,   7],\n",
              "       [  6,   4,   4,  15,   1],\n",
              "       [  0,   0,   0,   0,   3]])"
            ]
          },
          "metadata": {},
          "execution_count": 185
        }
      ]
    },
    {
      "cell_type": "markdown",
      "source": [
        "Thanks for reviewing this script!"
      ],
      "metadata": {
        "id": "r_tTl7iWi81r"
      }
    }
  ]
}